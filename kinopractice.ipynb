{
  "cells": [
    {
      "cell_type": "code",
      "execution_count": null,
      "metadata": {
        "trusted": true
      },
      "outputs": [],
      "source": [
        "import pandas as pd\n",
        "import numpy as np\n",
        "from scipy.stats import mannwhitneyu\n",
        "import bootstrap"
      ]
    },
    {
      "cell_type": "markdown",
      "metadata": {},
      "source": [
        "Importing Data:"
      ]
    },
    {
      "cell_type": "code",
      "execution_count": null,
      "metadata": {
        "trusted": true
      },
      "outputs": [],
      "source": [
        "data = pd.read_csv('kinodata.csv', sep=';', encoding='windows-1251')"
      ]
    },
    {
      "cell_type": "code",
      "execution_count": null,
      "metadata": {
        "trusted": true
      },
      "outputs": [],
      "source": [
        "data.head()"
      ]
    },
    {
      "cell_type": "markdown",
      "metadata": {},
      "source": [
        "Using MannWhitneyU:"
      ]
    },
    {
      "cell_type": "code",
      "execution_count": null,
      "metadata": {
        "trusted": true
      },
      "outputs": [],
      "source": [
        "mannwhitneyu(data.rating_old, data.rating_new)"
      ]
    },
    {
      "cell_type": "markdown",
      "metadata": {},
      "source": [
        "The statistical difference between the two groups is irrelevant for all films because the pvalue is not smaller than 0.05. The new rating and the old rating are similar."
      ]
    },
    {
      "cell_type": "markdown",
      "metadata": {},
      "source": [
        "Using bootstrap"
      ]
    },
    {
      "cell_type": "code",
      "execution_count": null,
      "metadata": {},
      "outputs": [],
      "source": [
        "stats_rt_old, stats_rt_new, p_value = bootstrap(np.mean, data.rating_old, data.rating_new, nbr_runs=1000)\n",
        "print(stats_rt_old)\n",
        "print(stats_rt_new)\n",
        "print(p_value)"
      ]
    },
    {
      "cell_type": "markdown",
      "metadata": {},
      "source": [
        "Using USA and USSR ratings"
      ]
    },
    {
      "cell_type": "code",
      "execution_count": null,
      "metadata": {},
      "outputs": [],
      "source": [
        "old_stats, new_stats, p_value = bootstrap(np.mean, data.loc[data.origin == 'США', 'rating_old'], data.loc[data.origin == 'США', 'rating_new'], nbr_runs=1000)\n",
        "old_stats, new_stats, p_value"
      ]
    },
    {
      "cell_type": "code",
      "execution_count": null,
      "metadata": {},
      "outputs": [],
      "source": [
        "old_stats, new_stats, p_value = bootstrap(np.mean, data.loc[data.origin == 'СССР', 'rating_old'], data.loc[data.origin == 'СССР', 'rating_new'], nbr_runs=1000)\n",
        "old_stats, new_stats, p_value"
      ]
    },
    {
      "cell_type": "markdown",
      "metadata": {},
      "source": [
        "Using Action genres"
      ]
    },
    {
      "cell_type": "code",
      "execution_count": null,
      "metadata": {},
      "outputs": [],
      "source": [
        "old_stats, new_stats, p_value = bootstrap(np.mean, data.loc[data.genre == 'боевик', 'rating_old'], data.loc[data.genre == 'боевик', 'rating_new'], nbr_runs=1000)\n",
        "old_stats, new_stats, p_value"
      ]
    },
    {
      "cell_type": "markdown",
      "metadata": {},
      "source": [
        "We conclude that new ratings do not differ much from old ratings"
      ]
    }
  ],
  "metadata": {
    "kernelspec": {
      "display_name": "Python 3.10.7 64-bit",
      "language": "python",
      "name": "python3"
    },
    "language_info": {
      "codemirror_mode": {
        "name": "ipython",
        "version": 3
      },
      "file_extension": ".py",
      "mimetype": "text/x-python",
      "name": "python",
      "nbconvert_exporter": "python",
      "pygments_lexer": "ipython3",
      "version": "3.10.7"
    },
    "vscode": {
      "interpreter": {
        "hash": "872e9d8d2224a468ddacf5cb4ea536b0a93937844ddc7c185eeb5b71e498e395"
      }
    }
  },
  "nbformat": 4,
  "nbformat_minor": 4
}
